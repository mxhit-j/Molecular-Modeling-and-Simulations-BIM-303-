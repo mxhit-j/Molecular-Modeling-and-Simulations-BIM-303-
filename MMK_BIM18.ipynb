{
  "nbformat": 4,
  "nbformat_minor": 0,
  "metadata": {
    "colab": {
      "name": "MMK-BIM18.ipynb",
      "private_outputs": true,
      "provenance": [],
      "authorship_tag": "ABX9TyP3vqb1qZoL9Rg8PYsopqFm",
      "include_colab_link": true
    },
    "kernelspec": {
      "name": "python3",
      "display_name": "Python 3"
    }
  },
  "cells": [
    {
      "cell_type": "markdown",
      "metadata": {
        "id": "view-in-github",
        "colab_type": "text"
      },
      "source": [
        "<a href=\"https://colab.research.google.com/github/mxhit-j/Molecular-Modeling-and-Simulations-BIM-303-/blob/main/MMK_BIM18.ipynb\" target=\"_parent\"><img src=\"https://colab.research.google.com/assets/colab-badge.svg\" alt=\"Open In Colab\"/></a>"
      ]
    },
    {
      "cell_type": "markdown",
      "metadata": {
        "id": "cyKZEl0L3qRN"
      },
      "source": [
        "Lambda Expression with single parameter:"
      ]
    },
    {
      "cell_type": "code",
      "metadata": {
        "id": "vZARPyPm13Ab"
      },
      "source": [
        "square = lambda num: num**2\r\n",
        "square(3)"
      ],
      "execution_count": null,
      "outputs": []
    },
    {
      "cell_type": "markdown",
      "metadata": {
        "id": "H26b714h3wiW"
      },
      "source": [
        "Lamda Expression with multiple parameters:"
      ]
    },
    {
      "cell_type": "code",
      "metadata": {
        "id": "cw13ksBO3S1f"
      },
      "source": [
        "x = lambda num1, num2: num1+num2\r\n",
        "x(square(3),3)"
      ],
      "execution_count": null,
      "outputs": []
    },
    {
      "cell_type": "markdown",
      "metadata": {
        "id": "X1yLQLPG30vn"
      },
      "source": [
        "Conditional Statements in Lambda Expressions:"
      ]
    },
    {
      "cell_type": "code",
      "metadata": {
        "id": "BUHhwPG738kg"
      },
      "source": [
        "y = lambda num1, num2: num1 if num1>num2 else num2\r\n",
        "y(square(4),13)"
      ],
      "execution_count": null,
      "outputs": []
    },
    {
      "cell_type": "code",
      "metadata": {
        "id": "8rMasZXL6VI6"
      },
      "source": [
        "!pip install lmfit"
      ],
      "execution_count": null,
      "outputs": []
    },
    {
      "cell_type": "code",
      "metadata": {
        "id": "Poiff0_q6PGA"
      },
      "source": [
        "# using Google Colab\r\n",
        "import numpy as np\r\n",
        "import matplotlib.pyplot as plt\r\n",
        "from lmfit import minimize, Parameters\r\n",
        "\r\n",
        "s = np.float_(np.array(range(0,1201,1200//8)))\r\n",
        "v = np.round(120*s/(171+s) + np.random.uniform(size=9), 2)\r\n",
        "\r\n",
        "def res(p, x, data):\r\n",
        "    vmax = p['vmax'].value\r\n",
        "    km = p['km'].value\r\n",
        "    model = vmax * x / (km + x)\r\n",
        "    return (data - model)\r\n",
        "\r\n",
        "p = Parameters()\r\n",
        "p.add('vmax', value=1., min=0.)\r\n",
        "p.add('km', value=1., min=0.)\r\n",
        "\r\n",
        "out = minimize(res, p, args=(s, v))\r\n",
        "\r\n",
        "plt.plot(s, v, 'r-')\r\n",
        "plt.xlabel('Substrate concentration')\r\n",
        "plt.ylabel('Velocity')\r\n",
        "plt.show()\r\n",
        "\r\n",
        "##Parameters for Hill equation(?)\r\n",
        "\r\n",
        "#ss = np.float_(np.array(range(0,1201,1200//2)))\r\n",
        "#y = p['vmax'].value * ss / (p['km'].value + ss)\r\n",
        "#plt.plot(ss, y, 'bo')\r\n",
        "#plt.show()"
      ],
      "execution_count": null,
      "outputs": []
    }
  ]
}